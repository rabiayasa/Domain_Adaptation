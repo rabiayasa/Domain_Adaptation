{
 "cells": [
  {
   "cell_type": "code",
   "execution_count": 1,
   "metadata": {
    "collapsed": false
   },
   "outputs": [
    {
     "name": "stderr",
     "output_type": "stream",
     "text": [
      "Using TensorFlow backend.\n"
     ]
    }
   ],
   "source": [
    "from timeit import default_timer as timer\n",
    "import numpy as np\n",
    "import pandas as pd\n",
    "from keras import backend as K\n",
    "from keras.layers import Conv2D, MaxPooling2D\n",
    "from keras.layers import Dense, Flatten, Dropout\n",
    "from keras.models import Sequential\n",
    "from sklearn.ensemble import RandomForestClassifier\n",
    "from sklearn.metrics import accuracy_score\n",
    "from keras_helper import NNWeightHelper\n",
    "from snes import SNES\n",
    "import os\n",
    "import cv2\n",
    "import matplotlib.pyplot as plt\n",
    "from dataSet import dataSet"
   ]
  },
  {
   "cell_type": "code",
   "execution_count": 2,
   "metadata": {},
   "outputs": [],
   "source": [
    "#randomforest classifier\n",
    "def train_classifier(model, X, y):\n",
    "    X_features = model.predict(X)\n",
    "    clf = RandomForestClassifier(n_estimators=10)\n",
    "    clf.fit(X_features, y)\n",
    "    y_pred = clf.predict(X_features)\n",
    "    return clf, y_pred\n",
    "#prediction \n",
    "def predict_classifier(model, clf, X):\n",
    "    X_features = model.predict(X)\n",
    "    return clf.predict(X_features)\n",
    "# input image dimensions\n",
    "img_rows, img_cols = 28, 28\n",
    "num_classes = 31\n",
    "\n",
    "# use just a small sample of the train set to test\n",
    "SAMPLE_SIZE = 300\n",
    "# how many different sets of weights ask() should return for evaluation\n",
    "POPULATION_SIZE = 20\n",
    "# how many times we will loop over ask()/tell()\n",
    "GENERATIONS = 60"
   ]
  },
  {
   "cell_type": "code",
   "execution_count": 3,
   "metadata": {},
   "outputs": [
    {
     "name": "stdout",
     "output_type": "stream",
     "text": [
      "For label classifier\nx_train shape: (498, 28, 28, 3)\nx_test shape: (795, 28, 28, 3)\n498 train samples\n795 test samples\nFor domain classifier\nx_domain shape: (1293, 28, 28, 3)\n1293 domain samples\n"
     ]
    }
   ],
   "source": [
    "#Loading the data from path-\n",
    "# This part adopted from LYU CHAOFAN_Github(permission was obtained)https://github.com/C-002/CE888_Assignment/blob/master/LoadImages.ipynb\n",
    "Amazon_path = './Original_images/amazon/images'\n",
    "dslr_path   = './Original_images/dslr/images'\n",
    "webcam_path = './Original_images/webcam/images'\n",
    "paths = [Amazon_path, dslr_path, webcam_path]\n",
    "files = os.listdir(Amazon_path)\n",
    "labels = {}\n",
    "count  = 0\n",
    "for key in files:\n",
    "    a = {key : count}\n",
    "    labels.update(a)\n",
    "    count += 1\n",
    "#print (labels)\n",
    "\n",
    "images_path = []\n",
    "dslr   = dataSet()\n",
    "webcam = dataSet()\n",
    "#loading DSLR data\n",
    "for dirname in files:\n",
    "    images_name = os.listdir(dslr_path + '/' + dirname)\n",
    "    for name in images_name:\n",
    "        Image_Path = dslr_path + '/' + dirname + '/' + name\n",
    "        images_path.append(Image_Path)\n",
    "        image_data = cv2.imread(Image_Path)\n",
    "        image_data = cv2.resize(image_data, (img_rows, img_cols), interpolation=cv2.INTER_CUBIC)\n",
    "        image_data = image_data.reshape(img_rows, img_cols, 3)\n",
    "        dslr.upData(image_data, labels[dirname], labels)\n",
    "dslr.sHape()\n",
    "#loading webcam data\n",
    "for dirname in files:\n",
    "    images_name = os.listdir(webcam_path + '/' + dirname)\n",
    "    for name in images_name:\n",
    "        Image_Path = webcam_path + '/' + dirname + '/' + name\n",
    "        images_path.append(Image_Path)\n",
    "        image_data = cv2.imread(Image_Path)\n",
    "        image_data = cv2.resize(image_data, (img_rows, img_cols), interpolation=cv2.INTER_CUBIC)\n",
    "        image_data = image_data.reshape(img_rows, img_cols, 3)\n",
    "        webcam.upData(image_data, labels[dirname], labels)\n",
    "webcam.sHape()\n",
    "\n",
    "#label classifier data\n",
    "x_train = dslr.data\n",
    "y_train = dslr.label\n",
    "x_test  = webcam.data\n",
    "y_test  = webcam.label\n",
    "x_train = x_train.reshape(x_train.shape[0], img_rows, img_cols, 3)\n",
    "x_test = x_test.reshape(x_test.shape[0], img_rows, img_cols, 3)\n",
    "input_shape = (img_rows, img_cols, 3)\n",
    "#data normalization\n",
    "x_train = x_train.astype('float32')\n",
    "x_test = x_test.astype('float32')\n",
    "x_train /= 255\n",
    "x_test /= 255\n",
    "#domain classifier data\n",
    "x_domain=np.concatenate((x_train,x_test), axis =0)\n",
    "y_domain = np.concatenate((np.zeros(y_train.shape[0]), np.ones(y_test.shape[0])),axis=0)\n",
    "print(\"For label classifier\")\n",
    "print('x_train shape:', x_train.shape)\n",
    "print('x_test shape:', x_test.shape)\n",
    "print(x_train.shape[0], 'train samples')\n",
    "print(x_test.shape[0], 'test samples')\n",
    "print(\"For domain classifier\")\n",
    "print('x_domain shape:', x_domain.shape)\n",
    "print(y_domain.shape[0], 'domain samples')"
   ]
  },
  {
   "cell_type": "code",
   "execution_count": 4,
   "metadata": {},
   "outputs": [],
   "source": [
    "#the neural network model\n",
    "model = Sequential()\n",
    "model.add(Conv2D(32, kernel_size=(5, 5),activation='relu',input_shape=(28,28,3)))\n",
    "model.add(MaxPooling2D(pool_size=(2, 2)))\n",
    "model.add(Conv2D(64, (5, 5), activation='relu'))\n",
    "model.add(MaxPooling2D(pool_size=(2, 2)))\n",
    "model.add(Flatten())\n",
    "model.add(Dense(100, activation='relu'))\n",
    "nnw = NNWeightHelper(model)\n",
    "weights = nnw.get_weights()"
   ]
  },
  {
   "cell_type": "code",
   "execution_count": 5,
   "metadata": {},
   "outputs": [
    {
     "name": "stdout",
     "output_type": "stream",
     "text": [
      "Total number of weights to evolve is: (156196,)\n"
     ]
    },
    {
     "name": "stdout",
     "output_type": "stream",
     "text": [
      "x_test shape: (795,)\nx_pred shape: (795,)\nNon-trained NN Test accuracy: 0.1069182389937107\n"
     ]
    }
   ],
   "source": [
    "print(\"Total number of weights to evolve is:\", weights.shape)\n",
    "all_examples_indices = list(range(x_train.shape[0]))\n",
    "clf, _ = train_classifier(model, x_train, y_train)\n",
    "y_pred = predict_classifier(model, clf, x_test)\n",
    "print('x_test shape:',y_test.shape)\n",
    "print('x_pred shape:',y_pred.shape)\n",
    "test_accuracy = accuracy_score(y_test, y_pred)\n",
    "print('Non-trained NN Test accuracy:', test_accuracy)"
   ]
  },
  {
   "cell_type": "code",
   "execution_count": 6,
   "metadata": {
    "collapsed": false
   },
   "outputs": [
    {
     "name": "stdout",
     "output_type": "stream",
     "text": [
      "Step 1.0 : 0.7774086378737541 best: 0.7774086378737541 20\nIt took 12.053712015667474 seconds to complete generation 1\n"
     ]
    },
    {
     "name": "stdout",
     "output_type": "stream",
     "text": [
      "Step 2.0 : 0.7674418604651163 best: 0.7774086378737541 20\nIt took 11.564772020836836 seconds to complete generation 2\n"
     ]
    },
    {
     "name": "stdout",
     "output_type": "stream",
     "text": [
      "Step 3.0 : 0.7641196013289037 best: 0.7774086378737541 20\nIt took 11.725097401601374 seconds to complete generation 3\n"
     ]
    },
    {
     "name": "stdout",
     "output_type": "stream",
     "text": [
      "Step 4.0 : 0.73421926910299 best: 0.7774086378737541 20\nIt took 12.568020680275566 seconds to complete generation 4\n"
     ]
    },
    {
     "name": "stdout",
     "output_type": "stream",
     "text": [
      "Step 5.0 : 0.7940199335548173 best: 0.7940199335548173 20\nIt took 12.790620320112673 seconds to complete generation 5\n"
     ]
    },
    {
     "name": "stdout",
     "output_type": "stream",
     "text": [
      "Step 6.0 : 0.7574750830564784 best: 0.7940199335548173 20\nIt took 14.449390836685836 seconds to complete generation 6\n"
     ]
    },
    {
     "name": "stdout",
     "output_type": "stream",
     "text": [
      "Step 7.0 : 0.7707641196013288 best: 0.7940199335548173 20\nIt took 13.822400622862489 seconds to complete generation 7\n"
     ]
    },
    {
     "name": "stdout",
     "output_type": "stream",
     "text": [
      "Step 8.0 : 0.7740863787375415 best: 0.7940199335548173 20\nIt took 14.127176571851521 seconds to complete generation 8\n"
     ]
    },
    {
     "name": "stdout",
     "output_type": "stream",
     "text": [
      "Step 9.0 : 0.760797342192691 best: 0.7940199335548173 20\nIt took 13.13512667232969 seconds to complete generation 9\n"
     ]
    },
    {
     "name": "stdout",
     "output_type": "stream",
     "text": [
      "Step 10.0 : 0.7740863787375416 best: 0.7940199335548173 20\nIt took 12.721383640480283 seconds to complete generation 10\n"
     ]
    },
    {
     "name": "stdout",
     "output_type": "stream",
     "text": [
      "Step 11.0 : 0.7308970099667774 best: 0.7940199335548173 20\nIt took 12.48903343830736 seconds to complete generation 11\n"
     ]
    },
    {
     "name": "stdout",
     "output_type": "stream",
     "text": [
      "Step 12.0 : 0.770764119601329 best: 0.7940199335548173 20\nIt took 12.415669730554868 seconds to complete generation 12\n"
     ]
    },
    {
     "name": "stdout",
     "output_type": "stream",
     "text": [
      "Step 13.0 : 0.760797342192691 best: 0.7940199335548173 20\nIt took 12.418430015596243 seconds to complete generation 13\n"
     ]
    },
    {
     "name": "stdout",
     "output_type": "stream",
     "text": [
      "Step 14.0 : 0.7707641196013288 best: 0.7940199335548173 20\nIt took 12.585913166679518 seconds to complete generation 14\n"
     ]
    },
    {
     "name": "stdout",
     "output_type": "stream",
     "text": [
      "Step 15.0 : 0.7906976744186047 best: 0.7940199335548173 20\nIt took 12.353738215102652 seconds to complete generation 15\n"
     ]
    },
    {
     "name": "stdout",
     "output_type": "stream",
     "text": [
      "Step 16.0 : 0.7740863787375415 best: 0.7940199335548173 20\nIt took 13.213246124123287 seconds to complete generation 16\n"
     ]
    },
    {
     "name": "stdout",
     "output_type": "stream",
     "text": [
      "Step 17.0 : 0.7375415282392026 best: 0.7940199335548173 20\nIt took 13.093629305848964 seconds to complete generation 17\n"
     ]
    },
    {
     "name": "stdout",
     "output_type": "stream",
     "text": [
      "Step 18.0 : 0.7541528239202658 best: 0.7940199335548173 20\nIt took 13.442183700002005 seconds to complete generation 18\n"
     ]
    },
    {
     "name": "stdout",
     "output_type": "stream",
     "text": [
      "Step 19.0 : 0.7674418604651162 best: 0.7940199335548173 20\nIt took 12.986021913729473 seconds to complete generation 19\n"
     ]
    },
    {
     "name": "stdout",
     "output_type": "stream",
     "text": [
      "Step 20.0 : 0.7807308970099667 best: 0.7940199335548173 20\nIt took 13.06910127474535 seconds to complete generation 20\n"
     ]
    },
    {
     "name": "stdout",
     "output_type": "stream",
     "text": [
      "Step 21.0 : 0.7774086378737541 best: 0.7940199335548173 20\nIt took 13.379208791162341 seconds to complete generation 21\n"
     ]
    },
    {
     "name": "stdout",
     "output_type": "stream",
     "text": [
      "Step 22.0 : 0.7342192691029901 best: 0.7940199335548173 20\nIt took 13.602234039589689 seconds to complete generation 22\n"
     ]
    },
    {
     "name": "stdout",
     "output_type": "stream",
     "text": [
      "Step 23.0 : 0.7807308970099668 best: 0.7940199335548173 20\nIt took 12.995947374044363 seconds to complete generation 23\n"
     ]
    },
    {
     "name": "stdout",
     "output_type": "stream",
     "text": [
      "Step 24.0 : 0.8039867109634551 best: 0.8039867109634551 20\nIt took 13.218829460013069 seconds to complete generation 24\n"
     ]
    },
    {
     "name": "stdout",
     "output_type": "stream",
     "text": [
      "Step 25.0 : 0.8073089700996677 best: 0.8073089700996677 20\nIt took 12.636999244342007 seconds to complete generation 25\n"
     ]
    },
    {
     "name": "stdout",
     "output_type": "stream",
     "text": [
      "Step 26.0 : 0.7641196013289037 best: 0.8073089700996677 20\nIt took 12.79539545808285 seconds to complete generation 26\n"
     ]
    },
    {
     "name": "stdout",
     "output_type": "stream",
     "text": [
      "Step 27.0 : 0.770764119601329 best: 0.8073089700996677 20\nIt took 12.675184832960099 seconds to complete generation 27\n"
     ]
    },
    {
     "name": "stdout",
     "output_type": "stream",
     "text": [
      "Step 28.0 : 0.7574750830564784 best: 0.8073089700996677 20\nIt took 12.962628603788744 seconds to complete generation 28\n"
     ]
    },
    {
     "name": "stdout",
     "output_type": "stream",
     "text": [
      "Step 29.0 : 0.7408637873754153 best: 0.8073089700996677 20\nIt took 12.617455100409416 seconds to complete generation 29\n"
     ]
    },
    {
     "name": "stdout",
     "output_type": "stream",
     "text": [
      "Step 30.0 : 0.760797342192691 best: 0.8073089700996677 20\nIt took 12.48781691002523 seconds to complete generation 30\n"
     ]
    },
    {
     "name": "stdout",
     "output_type": "stream",
     "text": [
      "Step 31.0 : 0.7840531561461793 best: 0.8073089700996677 20\nIt took 13.623333224022076 seconds to complete generation 31\n"
     ]
    },
    {
     "name": "stdout",
     "output_type": "stream",
     "text": [
      "Step 32.0 : 0.7508305647840532 best: 0.8073089700996677 20\nIt took 13.241539751031326 seconds to complete generation 32\n"
     ]
    },
    {
     "name": "stdout",
     "output_type": "stream",
     "text": [
      "Step 33.0 : 0.760797342192691 best: 0.8073089700996677 20\nIt took 13.059537951979905 seconds to complete generation 33\n"
     ]
    },
    {
     "name": "stdout",
     "output_type": "stream",
     "text": [
      "Step 34.0 : 0.7740863787375415 best: 0.8073089700996677 20\n"
     ]
    },
    {
     "name": "stdout",
     "output_type": "stream",
     "text": [
      "It took 12.86054425007029 seconds to complete generation 34\n"
     ]
    },
    {
     "name": "stdout",
     "output_type": "stream",
     "text": [
      "Step 35.0 : 0.7475083056478405 best: 0.8073089700996677 20\nIt took 13.609682013611746 seconds to complete generation 35\n"
     ]
    },
    {
     "name": "stdout",
     "output_type": "stream",
     "text": [
      "Step 36.0 : 0.760797342192691 best: 0.8073089700996677 20\nIt took 13.554131100845211 seconds to complete generation 36\n"
     ]
    },
    {
     "name": "stdout",
     "output_type": "stream",
     "text": [
      "Step 37.0 : 0.7840531561461794 best: 0.8073089700996677 20\nIt took 13.753958389090883 seconds to complete generation 37\n"
     ]
    },
    {
     "name": "stdout",
     "output_type": "stream",
     "text": [
      "Step 38.0 : 0.7508305647840532 best: 0.8073089700996677 20\nIt took 13.241399409507721 seconds to complete generation 38\n"
     ]
    },
    {
     "name": "stdout",
     "output_type": "stream",
     "text": [
      "Step 39.0 : 0.7740863787375416 best: 0.8073089700996677 20\nIt took 13.504979126843011 seconds to complete generation 39\n"
     ]
    },
    {
     "name": "stdout",
     "output_type": "stream",
     "text": [
      "Step 40.0 : 0.7774086378737541 best: 0.8073089700996677 20\nIt took 13.584721321579934 seconds to complete generation 40\n"
     ]
    },
    {
     "name": "stdout",
     "output_type": "stream",
     "text": [
      "Step 41.0 : 0.7475083056478405 best: 0.8073089700996677 20\nIt took 14.2437203339 seconds to complete generation 41\n"
     ]
    },
    {
     "name": "stdout",
     "output_type": "stream",
     "text": [
      "Step 42.0 : 0.7774086378737541 best: 0.8073089700996677 20\nIt took 13.82446872094215 seconds to complete generation 42\n"
     ]
    },
    {
     "name": "stdout",
     "output_type": "stream",
     "text": [
      "Step 43.0 : 0.7774086378737541 best: 0.8073089700996677 20\nIt took 13.063363140039314 seconds to complete generation 43\n"
     ]
    },
    {
     "name": "stdout",
     "output_type": "stream",
     "text": [
      "Step 44.0 : 0.7408637873754153 best: 0.8073089700996677 20\nIt took 12.88362725714478 seconds to complete generation 44\n"
     ]
    },
    {
     "name": "stdout",
     "output_type": "stream",
     "text": [
      "Step 45.0 : 0.7541528239202658 best: 0.8073089700996677 20\nIt took 12.626241608158693 seconds to complete generation 45\n"
     ]
    },
    {
     "name": "stdout",
     "output_type": "stream",
     "text": [
      "Step 46.0 : 0.7441860465116279 best: 0.8073089700996677 20\nIt took 12.684974183154168 seconds to complete generation 46\n"
     ]
    },
    {
     "name": "stdout",
     "output_type": "stream",
     "text": [
      "Step 47.0 : 0.760797342192691 best: 0.8073089700996677 20\nIt took 12.899827182460626 seconds to complete generation 47\n"
     ]
    },
    {
     "name": "stdout",
     "output_type": "stream",
     "text": [
      "Step 48.0 : 0.7475083056478405 best: 0.8073089700996677 20\nIt took 13.90387346131206 seconds to complete generation 48\n"
     ]
    },
    {
     "name": "stdout",
     "output_type": "stream",
     "text": [
      "Step 49.0 : 0.7807308970099668 best: 0.8073089700996677 20\nIt took 14.459550082001101 seconds to complete generation 49\n"
     ]
    },
    {
     "name": "stdout",
     "output_type": "stream",
     "text": [
      "Step 50.0 : 0.7408637873754153 best: 0.8073089700996677 20\nIt took 15.154244149821238 seconds to complete generation 50\n"
     ]
    },
    {
     "name": "stdout",
     "output_type": "stream",
     "text": [
      "Step 51.0 : 0.770764119601329 best: 0.8073089700996677 20\nIt took 14.095855376296868 seconds to complete generation 51\n"
     ]
    },
    {
     "name": "stdout",
     "output_type": "stream",
     "text": [
      "Step 52.0 : 0.7209302325581395 best: 0.8073089700996677 20\nIt took 13.409870240509463 seconds to complete generation 52\n"
     ]
    },
    {
     "name": "stdout",
     "output_type": "stream",
     "text": [
      "Step 53.0 : 0.73421926910299 best: 0.8073089700996677 20\nIt took 13.060414557576905 seconds to complete generation 53\n"
     ]
    },
    {
     "name": "stdout",
     "output_type": "stream",
     "text": [
      "Step 54.0 : 0.7674418604651163 best: 0.8073089700996677 20\nIt took 13.253274136009281 seconds to complete generation 54\n"
     ]
    },
    {
     "name": "stdout",
     "output_type": "stream",
     "text": [
      "Step 55.0 : 0.770764119601329 best: 0.8073089700996677 20\nIt took 12.598195870926702 seconds to complete generation 55\n"
     ]
    },
    {
     "name": "stdout",
     "output_type": "stream",
     "text": [
      "Step 56.0 : 0.7973421926910299 best: 0.8073089700996677 20\nIt took 13.817124063669894 seconds to complete generation 56\n"
     ]
    },
    {
     "name": "stdout",
     "output_type": "stream",
     "text": [
      "Step 57.0 : 0.7475083056478405 best: 0.8073089700996677 20\nIt took 12.789819174530976 seconds to complete generation 57\n"
     ]
    },
    {
     "name": "stdout",
     "output_type": "stream",
     "text": [
      "Step 58.0 : 0.7774086378737541 best: 0.8073089700996677 20\nIt took 13.17298996910722 seconds to complete generation 58\n"
     ]
    },
    {
     "name": "stdout",
     "output_type": "stream",
     "text": [
      "Step 59.0 : 0.7541528239202657 best: 0.8073089700996677 20\nIt took 12.722711948317738 seconds to complete generation 59\n"
     ]
    },
    {
     "name": "stdout",
     "output_type": "stream",
     "text": [
      "Step 60.0 : 0.7441860465116279 best: 0.8073089700996677 20\nIt took 13.595620709754371 seconds to complete generation 60\n"
     ]
    },
    {
     "name": "stdout",
     "output_type": "stream",
     "text": [
      "(795,) (795,)\nTest accuracy on target: 0.1509433962264151\n"
     ]
    }
   ],
   "source": [
    "#evolutionary process with SNES\n",
    "snes = SNES(weights, 1, POPULATION_SIZE)\n",
    "log = []\n",
    "for i in range(0, GENERATIONS):\n",
    "    start = timer()\n",
    "    asked = snes.ask()\n",
    "\n",
    "    # to be provided back to snes\n",
    "    told = []\n",
    "    # use a small number of training samples for speed purposes\n",
    "    subsample_indices = np.random.choice(all_examples_indices, size=SAMPLE_SIZE, replace=False)\n",
    "    # evaluate on another subset\n",
    "    subsample_indices_valid = np.random.choice(all_examples_indices, size=SAMPLE_SIZE + 1, replace=False)\n",
    "\n",
    "    # iterate over the population\n",
    "    for asked_j in asked:\n",
    "        # set nn weights\n",
    "        nnw.set_weights(asked_j)\n",
    "        # train the classifer and get back the predictions on the training data\n",
    "        clf, _ = train_classifier(model, x_train[subsample_indices], y_train[subsample_indices])\n",
    "        clf2, _ = train_classifier(model, x_domain[subsample_indices], y_domain[subsample_indices])\n",
    "\n",
    "        # calculate the predictions on a different set\n",
    "        y_pred = predict_classifier(model, clf, x_train[subsample_indices_valid])\n",
    "        score = accuracy_score(y_train[subsample_indices_valid], y_pred)\n",
    "\n",
    "        y_pred2 = predict_classifier(model, clf, x_domain[subsample_indices_valid])\n",
    "        score2 = accuracy_score(y_domain[subsample_indices_valid], y_pred)\n",
    "                    \n",
    "        # append to array of values that are to be returned\n",
    "        total=score+score2\n",
    "        told.append(total)\n",
    "\n",
    "    t = snes.tell(asked, told)\n",
    "    log.append(t)\n",
    "    end = timer()\n",
    "    print(\"It took\", end - start, \"seconds to complete generation\", i + 1)\n",
    "nnw.set_weights(snes.center)\n",
    "\n",
    "clf, _ = train_classifier(model, x_train, y_train)\n",
    "y_pred = predict_classifier(model, clf, x_test)\n",
    "print(y_test.shape, y_pred.shape)\n",
    "test_accuracy = accuracy_score(y_test, y_pred)\n",
    "print('Test accuracy on target:', test_accuracy)"
   ]
  },
  {
   "cell_type": "code",
   "execution_count": 7,
   "metadata": {},
   "outputs": [
    {
     "data": {
      "image/png": "[encoded data removed]",
      "text/plain": [
       "<Figure size 432x288 with 1 Axes>"
      ]
     },
     "metadata": {},
     "output_type": "display_data"
    }
   ],
   "source": [
    "#Plot the loss for each generation\n",
    "plt.plot(log)\n",
    "plt.title('loss plot(DSLR as a source and Webcam as a target)')\n",
    "plt.xlabel('genaration')\n",
    "plt.ylabel('loss value')\n",
    "plt.legend('test', loc='upper left')\n",
    "plt.savefig('Plot_Dslr_webcam.png')\n",
    "plt.show()"
   ]
  },
  {
   "cell_type": "code",
   "execution_count": null,
   "metadata": {},
   "outputs": [],
   "source": []
  }
 ],
 "metadata": {
  "kernelspec": {
   "display_name": "Python 2",
   "language": "python",
   "name": "python2"
  },
  "language_info": {
   "codemirror_mode": {
    "name": "ipython",
    "version": 2
   },
   "file_extension": ".py",
   "mimetype": "text/x-python",
   "name": "python",
   "nbconvert_exporter": "python",
   "pygments_lexer": "ipython2",
   "version": "2.7.6"
  }
 },
 "nbformat": 4,
 "nbformat_minor": 0
}
