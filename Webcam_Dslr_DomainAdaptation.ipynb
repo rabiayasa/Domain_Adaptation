{
 "cells": [
  {
   "cell_type": "code",
   "execution_count": 1,
   "metadata": {
    "collapsed": false
   },
   "outputs": [
    {
     "name": "stderr",
     "output_type": "stream",
     "text": [
      "Using TensorFlow backend.\n"
     ]
    }
   ],
   "source": [
    "from timeit import default_timer as timer\n",
    "import numpy as np\n",
    "import pandas as pd\n",
    "from keras import backend as K\n",
    "from keras.layers import Conv2D, MaxPooling2D\n",
    "from keras.layers import Dense, Flatten, Dropout\n",
    "from keras.models import Sequential\n",
    "from sklearn.ensemble import RandomForestClassifier\n",
    "from sklearn.metrics import accuracy_score\n",
    "from keras_helper import NNWeightHelper\n",
    "from snes import SNES\n",
    "import os\n",
    "import cv2\n",
    "import matplotlib.pyplot as plt\n",
    "from dataSet import dataSet"
   ]
  },
  {
   "cell_type": "code",
   "execution_count": 2,
   "metadata": {},
   "outputs": [],
   "source": [
    "#randomforest classifier\n",
    "def train_classifier(model, X, y):\n",
    "    X_features = model.predict(X)\n",
    "    clf = RandomForestClassifier(n_estimators=10)\n",
    "    clf.fit(X_features, y)\n",
    "    y_pred = clf.predict(X_features)\n",
    "    return clf, y_pred\n",
    "#prediction \n",
    "def predict_classifier(model, clf, X):\n",
    "    X_features = model.predict(X)\n",
    "    return clf.predict(X_features)\n",
    "\n",
    "# input image dimensions\n",
    "img_rows, img_cols = 28, 28\n",
    "num_classes = 31\n",
    "\n",
    "# use just a small sample of the train set to test\n",
    "SAMPLE_SIZE = 400\n",
    "# how many different sets of weights ask() should return for evaluation\n",
    "POPULATION_SIZE = 20\n",
    "# how many times we will loop over ask()/tell()\n",
    "GENERATIONS = 20"
   ]
  },
  {
   "cell_type": "code",
   "execution_count": 3,
   "metadata": {},
   "outputs": [
    {
     "name": "stdout",
     "output_type": "stream",
     "text": [
      "For label classifier\nx_train shape: (795, 28, 28, 3)\nx_test shape: (498, 28, 28, 3)\n795 train samples\n498 test samples\nFor domain classifier\nx_domain shape: (1293, 28, 28, 3)\n1293 domain samples\n"
     ]
    }
   ],
   "source": [
    "#Loading the data from path-\n",
    "# This part adopted from LYU CHAOFAN_Github(permission was obtained)https://github.com/C-002/CE888_Assignment/blob/master/LoadImages.ipynb\n",
    "Amazon_path = './Original_images/amazon/images'\n",
    "dslr_path   = './Original_images/dslr/images'\n",
    "webcam_path = './Original_images/webcam/images'\n",
    "paths = [Amazon_path, dslr_path, webcam_path]\n",
    "files = os.listdir(Amazon_path)\n",
    "labels = {}\n",
    "count  = 0\n",
    "for key in files:\n",
    "    a = {key : count}\n",
    "    labels.update(a)\n",
    "    count += 1\n",
    "images_path = []\n",
    "dslr   = dataSet()\n",
    "webcam = dataSet()\n",
    "#loading DSLR data\n",
    "for dirname in files:\n",
    "    images_name = os.listdir(dslr_path + '/' + dirname)\n",
    "    for name in images_name:\n",
    "        Image_Path = dslr_path + '/' + dirname + '/' + name\n",
    "        images_path.append(Image_Path)\n",
    "        image_data = cv2.imread(Image_Path)\n",
    "        image_data = cv2.resize(image_data, (img_rows, img_cols), interpolation=cv2.INTER_CUBIC)\n",
    "        image_data = image_data.reshape(img_rows, img_cols, 3)\n",
    "        dslr.upData(image_data, labels[dirname], labels)\n",
    "dslr.sHape()\n",
    "#loading webcam data\n",
    "for dirname in files:\n",
    "    images_name = os.listdir(webcam_path + '/' + dirname)\n",
    "    for name in images_name:\n",
    "        Image_Path = webcam_path + '/' + dirname + '/' + name\n",
    "        images_path.append(Image_Path)\n",
    "        image_data = cv2.imread(Image_Path)\n",
    "        image_data = cv2.resize(image_data, (img_rows, img_cols), interpolation=cv2.INTER_CUBIC)\n",
    "        image_data = image_data.reshape(img_rows, img_cols, 3)\n",
    "        webcam.upData(image_data, labels[dirname], labels)\n",
    "webcam.sHape()\n",
    "\n",
    "#label classifier data\n",
    "x_train = webcam.data\n",
    "y_train = webcam.label\n",
    "x_test  = dslr.data\n",
    "y_test  = dslr.label\n",
    "x_train = x_train.reshape(x_train.shape[0], img_rows, img_cols, 3)\n",
    "x_test = x_test.reshape(x_test.shape[0], img_rows, img_cols, 3)\n",
    "input_shape = (img_rows, img_cols, 3)\n",
    "#data normalization\n",
    "x_train = x_train.astype('float32')\n",
    "x_test = x_test.astype('float32')\n",
    "x_train /= 255\n",
    "x_test /= 255\n",
    "#domain classifier data\n",
    "x_domain=np.concatenate((x_train,x_test), axis =0)\n",
    "y_domain = np.concatenate((np.zeros(y_train.shape[0]), np.ones(y_test.shape[0])),axis=0)\n",
    "print(\"For label classifier\")\n",
    "print('x_train shape:', x_train.shape)\n",
    "print('x_test shape:', x_test.shape)\n",
    "print(x_train.shape[0], 'train samples')\n",
    "print(x_test.shape[0], 'test samples')\n",
    "print(\"For domain classifier\")\n",
    "print('x_domain shape:', x_domain.shape)\n",
    "print(y_domain.shape[0], 'domain samples')"
   ]
  },
  {
   "cell_type": "code",
   "execution_count": 4,
   "metadata": {},
   "outputs": [],
   "source": [
    "#the neural network model\n",
    "model = Sequential()\n",
    "model.add(Conv2D(32, kernel_size=(3, 3),activation='relu',input_shape=(28,28,3)))\n",
    "model.add(Conv2D(64, (3, 3), activation='relu'))\n",
    "model.add(MaxPooling2D(pool_size=(2, 2)))\n",
    "model.add(Flatten())\n",
    "model.add(Dense(31, activation='relu'))\n",
    "nnw = NNWeightHelper(model)\n",
    "weights = nnw.get_weights()"
   ]
  },
  {
   "cell_type": "code",
   "execution_count": 5,
   "metadata": {},
   "outputs": [
    {
     "name": "stdout",
     "output_type": "stream",
     "text": [
      "Total number of weights to evolve is: (305119,)\n"
     ]
    },
    {
     "name": "stdout",
     "output_type": "stream",
     "text": [
      "x_test shape: (498,)\nx_pred shape: (498,)\nNon-trained NN Test accuracy: 0.11044176706827309\n"
     ]
    }
   ],
   "source": [
    "print(\"Total number of weights to evolve is:\", weights.shape)\n",
    "all_examples_indices = list(range(x_train.shape[0]))\n",
    "clf, _ = train_classifier(model, x_train, y_train)\n",
    "y_pred = predict_classifier(model, clf, x_test)\n",
    "print('x_test shape:',y_test.shape)\n",
    "print('x_pred shape:',y_pred.shape)\n",
    "test_accuracy = accuracy_score(y_test, y_pred)\n",
    "print('Non-trained NN Test accuracy:', test_accuracy)"
   ]
  },
  {
   "cell_type": "code",
   "execution_count": 6,
   "metadata": {},
   "outputs": [
    {
     "name": "stdout",
     "output_type": "stream",
     "text": [
      "Step 1.0 : 0.7356608478802992 best: 0.7356608478802992 20\nIt took 23.993336598565765 seconds to complete generation 1\n"
     ]
    },
    {
     "name": "stdout",
     "output_type": "stream",
     "text": [
      "Step 2.0 : 0.7206982543640899 best: 0.7356608478802992 20\nIt took 26.12942203622856 seconds to complete generation 2\n"
     ]
    },
    {
     "name": "stdout",
     "output_type": "stream",
     "text": [
      "Step 3.0 : 0.7406483790523691 best: 0.7406483790523691 20\nIt took 26.97324625106534 seconds to complete generation 3\n"
     ]
    },
    {
     "name": "stdout",
     "output_type": "stream",
     "text": [
      "Step 4.0 : 0.6957605985037406 best: 0.7406483790523691 20\nIt took 25.72596766009424 seconds to complete generation 4\n"
     ]
    },
    {
     "name": "stdout",
     "output_type": "stream",
     "text": [
      "Step 5.0 : 0.71571072319202 best: 0.7406483790523691 20\nIt took 25.922113980589856 seconds to complete generation 5\n"
     ]
    },
    {
     "name": "stdout",
     "output_type": "stream",
     "text": [
      "Step 6.0 : 0.7481296758104738 best: 0.7481296758104738 20\nIt took 24.764601777400713 seconds to complete generation 6\n"
     ]
    },
    {
     "name": "stdout",
     "output_type": "stream",
     "text": [
      "Step 7.0 : 0.7007481296758105 best: 0.7481296758104738 20\nIt took 24.696914849014746 seconds to complete generation 7\n"
     ]
    },
    {
     "name": "stdout",
     "output_type": "stream",
     "text": [
      "Step 8.0 : 0.745635910224439 best: 0.7481296758104738 20\nIt took 24.69818744338295 seconds to complete generation 8\n"
     ]
    },
    {
     "name": "stdout",
     "output_type": "stream",
     "text": [
      "Step 9.0 : 0.7381546134663343 best: 0.7481296758104738 20\nIt took 24.70540515857357 seconds to complete generation 9\n"
     ]
    },
    {
     "name": "stdout",
     "output_type": "stream",
     "text": [
      "Step 10.0 : 0.7231920199501247 best: 0.7481296758104738 20\nIt took 24.679606648803087 seconds to complete generation 10\n"
     ]
    },
    {
     "name": "stdout",
     "output_type": "stream",
     "text": [
      "Step 11.0 : 0.7107231920199502 best: 0.7481296758104738 20\nIt took 24.7332484937088 seconds to complete generation 11\n"
     ]
    },
    {
     "name": "stdout",
     "output_type": "stream",
     "text": [
      "Step 12.0 : 0.7630922693266833 best: 0.7630922693266833 20\nIt took 24.71384504391665 seconds to complete generation 12\n"
     ]
    },
    {
     "name": "stdout",
     "output_type": "stream",
     "text": [
      "Step 13.0 : 0.6957605985037406 best: 0.7630922693266833 20\nIt took 24.82291050689031 seconds to complete generation 13\n"
     ]
    },
    {
     "name": "stdout",
     "output_type": "stream",
     "text": [
      "Step 14.0 : 0.7581047381546135 best: 0.7630922693266833 20\nIt took 26.9770746126768 seconds to complete generation 14\n"
     ]
    },
    {
     "name": "stdout",
     "output_type": "stream",
     "text": [
      "Step 15.0 : 0.7605985037406483 best: 0.7630922693266833 20\nIt took 26.667676208832404 seconds to complete generation 15\n"
     ]
    },
    {
     "name": "stdout",
     "output_type": "stream",
     "text": [
      "Step 16.0 : 0.7206982543640897 best: 0.7630922693266833 20\nIt took 24.850350800916374 seconds to complete generation 16\n"
     ]
    },
    {
     "name": "stdout",
     "output_type": "stream",
     "text": [
      "Step 17.0 : 0.7182044887780549 best: 0.7630922693266833 20\nIt took 24.659916168859752 seconds to complete generation 17\n"
     ]
    },
    {
     "name": "stdout",
     "output_type": "stream",
     "text": [
      "Step 18.0 : 0.7331670822942643 best: 0.7630922693266833 20\nIt took 24.94692022642232 seconds to complete generation 18\n"
     ]
    },
    {
     "name": "stdout",
     "output_type": "stream",
     "text": [
      "Step 19.0 : 0.740648379052369 best: 0.7630922693266833 20\nIt took 24.671486586982326 seconds to complete generation 19\n"
     ]
    },
    {
     "name": "stdout",
     "output_type": "stream",
     "text": [
      "Step 20.0 : 0.713216957605985 best: 0.7630922693266833 20\nIt took 24.696519918094168 seconds to complete generation 20\n"
     ]
    },
    {
     "name": "stdout",
     "output_type": "stream",
     "text": [
      "(498,) (498,)\nTest accuracy on target: 0.09236947791164658\n"
     ]
    }
   ],
   "source": [
    "#evolutionary process with SNES\n",
    "snes = SNES(weights, 1, POPULATION_SIZE)\n",
    "log = []\n",
    "for i in range(0, GENERATIONS):\n",
    "    start = timer()\n",
    "    asked = snes.ask()\n",
    "\n",
    "    # to be provided back to snes\n",
    "    told = []\n",
    "    # use a small number of training samples for speed purposes\n",
    "    subsample_indices = np.random.choice(all_examples_indices, size=SAMPLE_SIZE, replace=False)\n",
    "    # evaluate on another subset\n",
    "    subsample_indices_valid = np.random.choice(all_examples_indices, size=SAMPLE_SIZE + 1, replace=False)\n",
    "\n",
    "    # iterate over the population\n",
    "    for asked_j in asked:\n",
    "        # set nn weights\n",
    "        nnw.set_weights(asked_j)\n",
    "        # train the classifer and get back the predictions on the training data\n",
    "        clf, _ = train_classifier(model, x_train[subsample_indices], y_train[subsample_indices])\n",
    "        clf2, _ = train_classifier(model, x_domain[subsample_indices], y_domain[subsample_indices])\n",
    "\n",
    "        # calculate the predictions on a different set\n",
    "        y_pred = predict_classifier(model, clf, x_train[subsample_indices_valid])\n",
    "        score = accuracy_score(y_train[subsample_indices_valid], y_pred)\n",
    "\n",
    "        y_pred2 = predict_classifier(model, clf, x_domain[subsample_indices_valid])\n",
    "        score2 = accuracy_score(y_domain[subsample_indices_valid], y_pred)\n",
    "                    \n",
    "        # append to array of values that are to be returned\n",
    "        total=score+score2\n",
    "        told.append(total)\n",
    "\n",
    "    t = snes.tell(asked, told)\n",
    "    log.append(t)\n",
    "    end = timer()\n",
    "    print(\"It took\", end - start, \"seconds to complete generation\", i + 1)\n",
    "nnw.set_weights(snes.center)\n",
    "\n",
    "clf, _ = train_classifier(model, x_train, y_train)\n",
    "y_pred = predict_classifier(model, clf, x_test)\n",
    "print(y_test.shape, y_pred.shape)\n",
    "test_accuracy = accuracy_score(y_test, y_pred)\n",
    "print('Test accuracy on target:', test_accuracy)\n"
   ]
  },
  {
   "cell_type": "code",
   "execution_count": 7,
   "metadata": {},
   "outputs": [
    {
     "data": {
      "image/png": "[encoded data removed]",
      "text/plain": [
       "<Figure size 432x288 with 1 Axes>"
      ]
     },
     "metadata": {},
     "output_type": "display_data"
    }
   ],
   "source": [
    "#Plot the loss for each generation\n",
    "plt.plot(log)\n",
    "plt.title('loss plot(Webcam as a source and DSLR as a target)')\n",
    "plt.xlabel('genaration')\n",
    "plt.ylabel('loss value')\n",
    "plt.legend('test', loc='upper left')\n",
    "plt.savefig('Plot_webcam_dslr.png')\n",
    "plt.show()"
   ]
  },
  {
   "cell_type": "code",
   "execution_count": null,
   "metadata": {},
   "outputs": [],
   "source": []
  }
 ],
 "metadata": {
  "kernelspec": {
   "display_name": "Python 2",
   "language": "python",
   "name": "python2"
  },
  "language_info": {
   "codemirror_mode": {
    "name": "ipython",
    "version": 2
   },
   "file_extension": ".py",
   "mimetype": "text/x-python",
   "name": "python",
   "nbconvert_exporter": "python",
   "pygments_lexer": "ipython2",
   "version": "2.7.6"
  }
 },
 "nbformat": 4,
 "nbformat_minor": 0
}
